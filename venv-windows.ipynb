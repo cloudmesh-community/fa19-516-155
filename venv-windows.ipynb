{
 "cells": [
  {
   "cell_type": "markdown",
   "metadata": {},
   "source": [
    "## E516 - Cloud Computing\n",
    "\n",
    "### Creation of virtual environment on Windows 10\n",
    "\n",
    "#### a] Using venv \n",
    "- Connect to the command prompt using `cmd` in run option.\n",
    "- Navigate to the desired working folder.    \n",
    "- Use following command to create a virtual environment :  \n",
    "    **`python -m venv ENV3 --system-site-packages`**\n",
    "    - python -m venv : searches for `venv` and executes the command\n",
    "    - ENV3 : is the name of the virtual environment that we want to create\n",
    "    - `--system-site-packages` : is an optional argument. Adding this argument allows the virtual environment to access global python packages in addition to the locally installed packages. Changes made in the virtual environment are not propogated to the global packages.  \n",
    "![title](Create_venv.png)\n",
    "\n",
    "#### b] Using virtualenv\n",
    "- Alternatively we can use python package `virtualenv` to create the virtual environment.\n",
    "- Advantage of using `virtualenv` is that it allows us to choose the python version with which we want to create the virtual environment.\n",
    "- Use following command to create a virtual environment :  \n",
    "    **`virtualenv --python=C:\\Program Files\\Python37 ENV3`**\n",
    "    - `--python` : to specify the python to be used in the virtual environment.\n",
    "    - ENV3 : Name of the virtual environment.  \n",
    "\n",
    "#### c] Activate the virtual environment\n",
    "- We need to activate the virtual environment in order to run our programs in the virtual environment instead of the global python version.\n",
    "- Navigate to the directory where the virtual environment was created and use following command:  \n",
    "    **`ENV3\\Scripts\\activate.bat`**\n",
    "    - This runs the `activate.bat` file which activates the virtual environment.\n",
    "    - The prompt shows the name of the virtual environment, indicating successful activation of the virtual environment.\n",
    "    - This command creates a new directory with name as the name of the virtual environment.  \n",
    "![title](activate_venv.png)\n",
    "\n",
    "#### d] Enlisting available packages\n",
    "- As we have used `--system-site-packages`, we expect that all python packages available in the global version will be available in the virtual environment as well.\n",
    "- Any package can be installed in this virtual environment using pip :  \n",
    "    **`pip install <package name>`**\n",
    "- Use following command to enlist only locally installed packages :  \n",
    "    **`pip list`**\n",
    "- Use `pip list` command to enlist all packages:    \n",
    "![title](global_packages.png)  \n",
    "\n",
    "- To get list of packages installed locally:  \n",
    "    **`pip list --local`**  \n",
    "![title](local_packages.png)  \n",
    "\n",
    "#### e] Deactivating the virtual environment  \n",
    "- To deactivate the virtual environment, run following command:  \n",
    "   **`deactivate`**  \n",
    "- This will disconnect the virtual environment.  \n",
    "\n",
    "\n"
   ]
  }
 ],
 "metadata": {
  "kernelspec": {
   "display_name": "Python 3",
   "language": "python",
   "name": "python3"
  },
  "language_info": {
   "codemirror_mode": {
    "name": "ipython",
    "version": 3
   },
   "file_extension": ".py",
   "mimetype": "text/x-python",
   "name": "python",
   "nbconvert_exporter": "python",
   "pygments_lexer": "ipython3",
   "version": "3.7.4"
  }
 },
 "nbformat": 4,
 "nbformat_minor": 4
}
